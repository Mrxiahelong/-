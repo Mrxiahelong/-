{
 "cells": [
  {
   "cell_type": "code",
   "execution_count": 1,
   "metadata": {
    "collapsed": true
   },
   "outputs": [
    {
     "name": "stderr",
     "output_type": "stream",
     "text": [
      "Using TensorFlow backend.\n",
      "c:\\python3.6\\lib\\site-packages\\requests\\__init__.py:80: RequestsDependencyWarning: urllib3 (1.24.3) or chardet (3.0.4) doesn't match a supported version!\n",
      "  RequestsDependencyWarning)\n",
      "c:\\python3.6\\lib\\site-packages\\sklearn\\externals\\joblib\\__init__.py:15: DeprecationWarning: sklearn.externals.joblib is deprecated in 0.21 and will be removed in 0.23. Please import this functionality directly from joblib, which can be installed with: pip install joblib. If this warning is raised when loading pickled models, you may need to re-serialize those models with scikit-learn 0.21+.\n",
      "  warnings.warn(msg, category=DeprecationWarning)\n"
     ]
    }
   ],
   "source": [
    "from keras.models import load_model\n",
    "from py2neo import Node, Relationship,Graph\n",
    "from custorn import *\n",
    "from config import *\n",
    "import numpy as np\n",
    "from sklearn.externals import joblib\n",
    "import jieba\n",
    "graph = Graph('http://localhost:7474',username='neo4j',password='13086573198zzz')\n"
   ]
  },
  {
   "cell_type": "code",
   "execution_count": 2,
   "metadata": {
    "collapsed": true
   },
   "outputs": [
    {
     "name": "stdout",
     "output_type": "stream",
     "text": [
      "Tensor(\"attention_1/Reshape_2:0\", shape=(?, 150, 1024), dtype=float32)\n",
      "Tensor(\"attention_1/transpose_1:0\", shape=(?, 8, ?, 128), dtype=float32)\n",
      "Tensor(\"attention_1/Reshape_7:0\", shape=(?, ?, 8, 128), dtype=float32)\n",
      "Tensor(\"attention_1/transpose_5:0\", shape=(?, 8, ?, 128), dtype=float32)\n",
      "Tensor(\"attention_1/transpose_1:0\", shape=(?, 8, ?, 128), dtype=float32) Tensor(\"attention_1/transpose_3:0\", shape=(?, 8, ?, 128), dtype=float32)\n",
      "Tensor(\"attention_1/truediv:0\", shape=(?, 8, ?, ?), dtype=float32)\n"
     ]
    }
   ],
   "source": [
    "entity_model=load_model('.//model//model.h5',custom_objects={'Position_Embedding':Position_Embedding(128),'Attention':Attention(nb_head=8,size_per_head=128),\n",
    "                                                            'ndim':ndim,'batch_dot':batch_dot})\n",
    "relation_model=model=joblib.load('.//model//lr.model')\n",
    "tfidf_model=joblib.load('.//model//tfidf.model')"
   ]
  },
  {
   "cell_type": "code",
   "execution_count": 3,
   "metadata": {},
   "outputs": [],
   "source": [
    "\n",
    "def predict_entity(text):\n",
    "    ids=np.reshape([word2int[word] for word in text]+[0]*(150-len(text)),(1,150))\n",
    "    pred=np.argmax(np.squeeze(entity_model.predict(ids)),axis=-1)\n",
    "    entity=\"\"\n",
    "    type_=\"\"\n",
    "    for i in range(len(pred)):\n",
    "        if pred[i]!=0:\n",
    "            entity+=text[i]\n",
    "    for i in range(len(pred)):\n",
    "        if pred[i]!=0:\n",
    "            type_+=ids2tag[pred[i]].split('_')[1].split('_')[0]\n",
    "            break\n",
    "    return entity,type_\n",
    "def predict_yitu(text):\n",
    "    sparse=tfidf_model.transform([' '.join(jieba.lcut(text))])\n",
    "    pred=relation_model.predict(sparse.toarray())[0]\n",
    "    return pred\n",
    "def remove_text(text,type_):\n",
    "    for word in entity:\n",
    "        pre_text=text.replace(entity,entity_relation_map[type_]).replace('《','').replace('》','').replace('<<','').replace('>>','')\n",
    "    return pre_text\n",
    "def find_ans(entity,type_,relation):\n",
    "    entity=entity\n",
    "    type_=type_\n",
    "    relation=relation\n",
    "    str='MATCH (obj:'+type_+' {name: \"'+entity+'\"})-[:'+relation+']->(sub) RETURN properties(sub)'\n",
    "    str2='MATCH (obj)-[:'+relation+']->(sub:'+type_+' {name: \"'+entity+'\"}) RETURN properties(obj)'\n",
    "    ans=list(graph.run(str))\n",
    "    if len(ans)==0:\n",
    "        ans=list(graph.run(str2))\n",
    "    if len(ans)==0:\n",
    "        return '不知道哦'\n",
    "    else:\n",
    "        names=[pp.values()[0]['name'] for pp in ans]\n",
    "    return names"
   ]
  },
  {
   "cell_type": "code",
   "execution_count": 4,
   "metadata": {},
   "outputs": [
    {
     "name": "stderr",
     "output_type": "stream",
     "text": [
      "Building prefix dict from the default dictionary ...\n",
      "Loading model from cache C:\\Users\\夏鹤珑\\AppData\\Local\\Temp\\jieba.cache\n",
      "Loading model cost 1.518 seconds.\n",
      "Prefix dict has been built succesfully.\n"
     ]
    },
    {
     "name": "stdout",
     "output_type": "stream",
     "text": [
      "无尽的爱 影视作品 主演\n"
     ]
    }
   ],
   "source": [
    "text='《无尽的爱》的主演是谁?'\n",
    "entity,type_=predict_entity(text)\n",
    "pre_text=remove_text(text,type_)\n",
    "relation=predict_yitu(pre_text)\n",
    "print(entity,type_,relation)"
   ]
  },
  {
   "cell_type": "code",
   "execution_count": 5,
   "metadata": {
    "scrolled": true
   },
   "outputs": [
    {
     "data": {
      "text/plain": [
       "['马国贤', '林嘉俐', '洪流', '检场', '杨丽音']"
      ]
     },
     "execution_count": 5,
     "metadata": {},
     "output_type": "execute_result"
    }
   ],
   "source": [
    "find_ans(entity,type_,relation)"
   ]
  },
  {
   "cell_type": "code",
   "execution_count": null,
   "metadata": {},
   "outputs": [],
   "source": []
  },
  {
   "cell_type": "code",
   "execution_count": null,
   "metadata": {},
   "outputs": [],
   "source": []
  },
  {
   "cell_type": "code",
   "execution_count": null,
   "metadata": {},
   "outputs": [],
   "source": []
  },
  {
   "cell_type": "code",
   "execution_count": null,
   "metadata": {},
   "outputs": [],
   "source": []
  },
  {
   "cell_type": "code",
   "execution_count": null,
   "metadata": {},
   "outputs": [],
   "source": []
  },
  {
   "cell_type": "code",
   "execution_count": null,
   "metadata": {},
   "outputs": [],
   "source": []
  }
 ],
 "metadata": {
  "kernelspec": {
   "display_name": "Python 3",
   "language": "python",
   "name": "python3"
  },
  "language_info": {
   "codemirror_mode": {
    "name": "ipython",
    "version": 3
   },
   "file_extension": ".py",
   "mimetype": "text/x-python",
   "name": "python",
   "nbconvert_exporter": "python",
   "pygments_lexer": "ipython3",
   "version": "3.6.5"
  }
 },
 "nbformat": 4,
 "nbformat_minor": 2
}
