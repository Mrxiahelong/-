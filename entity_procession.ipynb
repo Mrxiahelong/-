{
 "cells": [
  {
   "cell_type": "code",
   "execution_count": 1,
   "metadata": {
    "colab": {},
    "colab_type": "code",
    "id": "YxvX3anq9jPt"
   },
   "outputs": [],
   "source": [
    "import json\n",
    "import numpy as np\n",
    "from collections import Counter"
   ]
  },
  {
   "cell_type": "code",
   "execution_count": 2,
   "metadata": {
    "colab": {
     "base_uri": "https://localhost:8080/",
     "height": 245
    },
    "colab_type": "code",
    "executionInfo": {
     "elapsed": 984,
     "status": "error",
     "timestamp": 1575185372988,
     "user": {
      "displayName": "helong xia",
      "photoUrl": "",
      "userId": "12754003518422150726"
     },
     "user_tz": -480
    },
    "id": "AZTN-b3U9jP1",
    "outputId": "547110b0-9ac4-46c0-aae0-1e1960368809"
   },
   "outputs": [
    {
     "name": "stdout",
     "output_type": "stream",
     "text": [
      "173108\n"
     ]
    }
   ],
   "source": [
    "#读取数据\n",
    "path='E://relation//train_data.json//train_data.json'\n",
    "file = open(path, 'r', encoding='utf-8')\n",
    "papers =[]\n",
    "for line in file.readlines():\n",
    "    dic = json.loads(line)\n",
    "    papers.append(dic)\n",
    "print(len(papers))"
   ]
  },
  {
   "cell_type": "code",
   "execution_count": null,
   "metadata": {
    "colab": {},
    "colab_type": "code",
    "id": "yIJ8VGe89jP7"
   },
   "outputs": [],
   "source": []
  },
  {
   "cell_type": "code",
   "execution_count": 5,
   "metadata": {
    "colab": {},
    "colab_type": "code",
    "id": "M31FeJfA9jP9"
   },
   "outputs": [],
   "source": [
    "Tags=['O']\n",
    "for pos in ['B','M','E','S']:\n",
    "    for entity in entity_type:\n",
    "        Tags.append(pos+'_'+entity)\n",
    "tag2id={v:k for k,v in enumerate(Tags)}\n",
    "id2tag={k:v for k,v in enumerate(Tags)}"
   ]
  },
  {
   "cell_type": "code",
   "execution_count": 6,
   "metadata": {
    "colab": {
     "base_uri": "https://localhost:8080/",
     "height": 35
    },
    "colab_type": "code",
    "executionInfo": {
     "elapsed": 8868,
     "status": "ok",
     "timestamp": 1575184188015,
     "user": {
      "displayName": "helong xia",
      "photoUrl": "",
      "userId": "12754003518422150726"
     },
     "user_tz": -480
    },
    "id": "qmofG5i-9jQB",
    "outputId": "36d100bb-55ff-4376-bfe4-16faa3050cdc"
   },
   "outputs": [
    {
     "name": "stderr",
     "output_type": "stream",
     "text": [
      "100%|███████████████████████████████████████████████████████████████████████| 173108/173108 [00:10<00:00, 16521.38it/s]\n"
     ]
    }
   ],
   "source": [
    "from tqdm import tqdm\n",
    "def tagging(pos,start,end,type_):\n",
    "    if end-start==1:\n",
    "        return tag2id['S_'+type_]\n",
    "    elif pos==start:\n",
    "        return tag2id['B_'+type_]\n",
    "    elif pos==end-1:\n",
    "        return tag2id['E_'+type_]\n",
    "    return tag2id['M_'+type_]\n",
    "vocab=Counter()\n",
    "texts=[]\n",
    "labels=[]\n",
    "length=[]\n",
    "n=0\n",
    "for i in tqdm(range(len(papers))):\n",
    "    line=papers[i]\n",
    "    text=line['text'].lower()\n",
    "    if len(text)>150:\n",
    "        continue\n",
    "    for word in text:\n",
    "        vocab[word]+=1\n",
    "    for spo in line['spo_list']:\n",
    "        object_type=spo['object_type']\n",
    "        subject_type=spo['subject_type']\n",
    "        object_=spo['object'].lower()\n",
    "        subject_=spo['subject'].lower()\n",
    "        label=[0]*len(text)\n",
    "        \n",
    "        if object_type not in entity_type and subject_type not in entity_type:\n",
    "            continue\n",
    "        if object_type in entity_type:\n",
    "            try:\n",
    "                object_start=text.index(object_)\n",
    "                object_end=object_start+len(object_)\n",
    "                for pos in range(object_start,object_end):\n",
    "                    label[pos]=tagging(pos,object_start,object_end,object_type)\n",
    "            except:\n",
    "                continue\n",
    "\n",
    "        if subject_type in entity_type:\n",
    "            try:\n",
    "                subject_start=text.index(subject_)\n",
    "                subject_end=subject_start+len(subject_)\n",
    "                for pos in range(subject_start,subject_end):\n",
    "                    label[pos]=tagging(pos,subject_start,subject_end,subject_type)\n",
    "            except:\n",
    "                continue\n",
    "        length.append(len(text))\n",
    "\n",
    "        texts.append(text)\n",
    "        labels.append(label)\n",
    "\n",
    "            \n"
   ]
  },
  {
   "cell_type": "code",
   "execution_count": 8,
   "metadata": {
    "colab": {
     "base_uri": "https://localhost:8080/",
     "height": 35
    },
    "colab_type": "code",
    "executionInfo": {
     "elapsed": 21373,
     "status": "ok",
     "timestamp": 1575178883877,
     "user": {
      "displayName": "helong xia",
      "photoUrl": "",
      "userId": "12754003518422150726"
     },
     "user_tz": -480
    },
    "id": "AR8c7iSu9jQE",
    "outputId": "4dc126ae-4b84-416c-cca8-f8bebbc66b32"
   },
   "outputs": [
    {
     "name": "stderr",
     "output_type": "stream",
     "text": [
      "100%|███████████████████████████████████████████████████████████████████████| 340629/340629 [00:18<00:00, 17971.18it/s]\n"
     ]
    }
   ],
   "source": [
    "vocab_list=['<PAD>','<UNK>']\n",
    "for word,num in vocab.most_common():\n",
    "    if num>=3:\n",
    "        vocab_list.append(word)\n",
    "        \n",
    "word2id={k:v for v,k in enumerate(vocab_list)}\n",
    "X=np.zeros((len(texts),150))\n",
    "for i in tqdm(range(len(texts))):\n",
    "    for j in range(len(texts[i])):\n",
    "         X[i][j]=word2id.get(texts[i][j],word2id['<UNK>'])\n",
    "y=np.zeros((len(texts),150))\n",
    "for i in range(len(labels)):\n",
    "    for j in range(len(labels[i])):\n",
    "        y[i][j]=labels[i][j]"
   ]
  },
  {
   "cell_type": "code",
   "execution_count": 11,
   "metadata": {
    "colab": {},
    "colab_type": "code",
    "id": "38suCX7M9jQI"
   },
   "outputs": [],
   "source": [
    "np.save('C://some tensorflow trick//relation//entity//X.npy',X)\n",
    "np.save('C://some tensorflow trick//relation//entity//y.npy',y)\n",
    "np.save('C://some tensorflow trick//relation//entity///texts.npy',texts)\n",
    "\n",
    "np.save('C://some tensorflow trick//relation//entity//length.npy',length)\n",
    "np.save('C://some tensorflow trick//relation//entity///Tags.npy',Tags)\n",
    "np.save('C://some tensorflow trick//relation//entity//vocab.npy',vocab_list)"
   ]
  },
  {
   "cell_type": "code",
   "execution_count": null,
   "metadata": {
    "colab": {},
    "colab_type": "code",
    "id": "wx9kSJFR9jQL"
   },
   "outputs": [],
   "source": []
  },
  {
   "cell_type": "code",
   "execution_count": null,
   "metadata": {
    "colab": {},
    "colab_type": "code",
    "id": "zeHg8h-x9jQO",
    "scrolled": true
   },
   "outputs": [],
   "source": []
  },
  {
   "cell_type": "code",
   "execution_count": 22,
   "metadata": {
    "colab": {},
    "colab_type": "code",
    "id": "oS1c1VJW9jQT",
    "outputId": "5179ed29-9417-4095-a12e-2b7f8d996ae5"
   },
   "outputs": [],
   "source": [
    "from collections import Counter\n",
    "counter=Counter()\n",
    "for paper in papers:\n",
    "    for spo in paper['spo_list']:\n",
    "        counter[spo['predicate']]+=1\n",
    "        "
   ]
  },
  {
   "cell_type": "code",
   "execution_count": 36,
   "metadata": {
    "colab": {
     "base_uri": "https://localhost:8080/",
     "height": 235
    },
    "colab_type": "code",
    "executionInfo": {
     "elapsed": 70503,
     "status": "ok",
     "timestamp": 1575184154977,
     "user": {
      "displayName": "helong xia",
      "photoUrl": "",
      "userId": "12754003518422150726"
     },
     "user_tz": -480
    },
    "id": "HbEcpJeq9jQY",
    "outputId": "86ce2a9c-4bf7-44dc-d30b-00a022307249"
   },
   "outputs": [],
   "source": [
    "save_relation_type=[]\n",
    "for t,n in counter.most_common(15):\n",
    "    save_relation_type.append(t)#不要出版社,民族"
   ]
  },
  {
   "cell_type": "code",
   "execution_count": null,
   "metadata": {
    "colab": {},
    "colab_type": "code",
    "id": "dsuB6vwG9jQj"
   },
   "outputs": [],
   "source": []
  },
  {
   "cell_type": "code",
   "execution_count": 34,
   "metadata": {
    "colab": {},
    "colab_type": "code",
    "id": "8JVJVzjh9jQn"
   },
   "outputs": [],
   "source": []
  },
  {
   "cell_type": "code",
   "execution_count": null,
   "metadata": {
    "colab": {},
    "colab_type": "code",
    "id": "4cqMcL_k9jQp"
   },
   "outputs": [],
   "source": []
  },
  {
   "cell_type": "code",
   "execution_count": null,
   "metadata": {},
   "outputs": [],
   "source": []
  }
 ],
 "metadata": {
  "colab": {
   "name": "entity_procession.ipynb",
   "provenance": []
  },
  "kernelspec": {
   "display_name": "Python 3",
   "language": "python",
   "name": "python3"
  },
  "language_info": {
   "codemirror_mode": {
    "name": "ipython",
    "version": 3
   },
   "file_extension": ".py",
   "mimetype": "text/x-python",
   "name": "python",
   "nbconvert_exporter": "python",
   "pygments_lexer": "ipython3",
   "version": "3.6.5"
  }
 },
 "nbformat": 4,
 "nbformat_minor": 1
}
